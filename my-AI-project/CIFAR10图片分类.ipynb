{
  "cells": [
    {
      "cell_type": "code",
      "execution_count": 2,
      "metadata": {
        "id": "Ti2BKm95oTOS"
      },
      "outputs": [],
      "source": [
        "import torch\n",
        "import torchvision\n",
        "import torchvision.transforms as transforms\n",
        "import matplotlib.pyplot as plt\n",
        "import numpy as np"
      ]
    },
    {
      "cell_type": "code",
      "execution_count": 3,
      "metadata": {
        "colab": {
          "base_uri": "https://localhost:8080/"
        },
        "id": "eyC1UcGEp-UK",
        "outputId": "1d8fc761-157d-48d3-c0c3-e53301ea9e66"
      },
      "outputs": [
        {
          "output_type": "stream",
          "name": "stdout",
          "text": [
            "Downloading https://www.cs.toronto.edu/~kriz/cifar-10-python.tar.gz to ./data/cifar-10-python.tar.gz\n"
          ]
        },
        {
          "output_type": "stream",
          "name": "stderr",
          "text": [
            "100%|██████████| 170498071/170498071 [00:05<00:00, 32785088.41it/s]\n"
          ]
        },
        {
          "output_type": "stream",
          "name": "stdout",
          "text": [
            "Extracting ./data/cifar-10-python.tar.gz to ./data\n",
            "Files already downloaded and verified\n"
          ]
        }
      ],
      "source": [
        "transform=transforms.Compose(\n",
        "    [transforms.ToTensor(),\n",
        "     transforms.Normalize((0.5,0.5,0.5),(0.5,0.5,0.5))])\n",
        "trainset=torchvision.datasets.CIFAR10(root='./data',train=True,download=True,transform=transform)\n",
        "trainloader=torch.utils.data.DataLoader(trainset,batch_size=4,shuffle=True,num_workers=2)\n",
        "testset=torchvision.datasets.CIFAR10(root='./data',train=False,download=True,transform=transform)\n",
        "testloader=torch.utils.data.DataLoader(testset,batch_size=4,shuffle=False,num_workers=2)\n",
        "classes=('plane', 'car', 'bird', 'cat','deer', 'dog', 'frog', 'horse', 'ship', 'truck')"
      ]
    },
    {
      "cell_type": "code",
      "execution_count": 4,
      "metadata": {
        "colab": {
          "base_uri": "https://localhost:8080/",
          "height": 210
        },
        "id": "-iD1ycqWsak0",
        "outputId": "b49d7b97-15d5-4e30-df2e-4f4db7ed6f78"
      },
      "outputs": [
        {
          "output_type": "display_data",
          "data": {
            "text/plain": [
              "<Figure size 640x480 with 1 Axes>"
            ],
            "image/png": "[encoded data removed]"
          },
          "metadata": {}
        },
        {
          "output_type": "stream",
          "name": "stdout",
          "text": [
            "<generator object <genexpr> at 0x7eb340b02260>\n"
          ]
        }
      ],
      "source": [
        "def imshow(img):\n",
        "  img=img/2+0.5\n",
        "  npimg=img.numpy()\n",
        "  plt.imshow(np.transpose(npimg,(1,2,0)))\n",
        "  plt.show()\n",
        "#随机获取训练集图片\n",
        "dataiter=iter(trainloader)\n",
        "images,labels=next(dataiter)\n",
        "imshow(torchvision.utils.make_grid(images))\n",
        "print(\" \".join(\"%5s\") % classes[labels[j]] for j in range(4))"
      ]
    },
    {
      "cell_type": "code",
      "execution_count": 5,
      "metadata": {
        "id": "HxnUhz5yrrJp"
      },
      "outputs": [],
      "source": [
        "#构建卷积神经网络\n",
        "import torch.nn as nn\n",
        "import torch.nn.functional as F\n",
        "class Net(nn.Module):\n",
        "  def __init__(self):\n",
        "    super(Net,self).__init__()\n",
        "    self.conv1=nn.Conv2d(3,6,5)#输入通道为3，输出通道为6，卷积核大小5*5\n",
        "    self.pool=nn.MaxPool2d(2,2)#最大池化，池化核大小2*2，步长为2\n",
        "    self.conv2=nn.Conv2d(6,16,5)\n",
        "    self.fc1=nn.Linear(16*5*5,120)\n",
        "    self.fc2=nn.Linear(120,84)\n",
        "    self.fc3=nn.Linear(84,10)\n",
        "  def forward(self,x):\n",
        "    x=self.pool(F.relu(self.conv1(x)))\n",
        "    x=self.pool(F.relu(self.conv2(x)))\n",
        "    x=x.view(-1,16*5*5)#改变数据维度\n",
        "    x=F.relu(self.fc1(x))\n",
        "    x=F.relu(self.fc2(x))\n",
        "    x=self.fc3(x)\n",
        "    return x\n",
        "net=Net()"
      ]
    },
    {
      "cell_type": "code",
      "execution_count": 6,
      "metadata": {
        "id": "heai3IdFuuFk",
        "colab": {
          "base_uri": "https://localhost:8080/"
        },
        "outputId": "1f1f5d06-4451-456d-9e5a-66d2c9ea2dea"
      },
      "outputs": [
        {
          "output_type": "execute_result",
          "data": {
            "text/plain": [
              "Net(\n",
              "  (conv1): Conv2d(3, 6, kernel_size=(5, 5), stride=(1, 1))\n",
              "  (pool): MaxPool2d(kernel_size=2, stride=2, padding=0, dilation=1, ceil_mode=False)\n",
              "  (conv2): Conv2d(6, 16, kernel_size=(5, 5), stride=(1, 1))\n",
              "  (fc1): Linear(in_features=400, out_features=120, bias=True)\n",
              "  (fc2): Linear(in_features=120, out_features=84, bias=True)\n",
              "  (fc3): Linear(in_features=84, out_features=10, bias=True)\n",
              ")"
            ]
          },
          "metadata": {},
          "execution_count": 6
        }
      ],
      "source": [
        "#定义损失函数和优化器\n",
        "import torch.optim as optim\n",
        "loss=nn.CrossEntropyLoss()\n",
        "optimizer=optim.SGD(net.parameters(),lr=0.001,momentum=0.9)\n",
        "#定义参数初始化\n",
        "def init_kaiming_normal(m):\n",
        "  if type(m)==nn.Conv2d:\n",
        "    nn.init.kaiming_normal_(m.weight,mode='fan_in',nonlinearity='relu')\n",
        "    nn.init.zeros_(m.bias)\n",
        "  elif type(m)==nn.Linear:\n",
        "    nn.init.normal_(m.weight,mean=0,std=0.01)\n",
        "    nn.init.zeros_(m.bias)\n",
        "net.apply(init_kaiming_normal)"
      ]
    },
    {
      "cell_type": "code",
      "source": [
        "#检查一下初始化是否执行\n",
        "print(net.conv1.weight.data[0])\n",
        "print(net.fc1.bias.data[0])"
      ],
      "metadata": {
        "colab": {
          "base_uri": "https://localhost:8080/"
        },
        "id": "2mkLiiRLgKcM",
        "outputId": "a3741bc0-8a0a-44d9-edfe-881b3bf0ebb6"
      },
      "execution_count": 7,
      "outputs": [
        {
          "output_type": "stream",
          "name": "stdout",
          "text": [
            "tensor([[[ 1.5169e-01,  7.3806e-02, -3.7919e-01,  3.2774e-01,  1.6802e-01],\n",
            "         [ 2.9836e-01, -1.4518e-02,  3.3600e-01, -3.8301e-02, -4.7818e-01],\n",
            "         [-7.6521e-03,  1.1820e-01,  1.1653e-01,  4.4707e-02,  3.0458e-02],\n",
            "         [-6.5157e-02, -2.4537e-02,  2.2251e-01,  2.9243e-01, -3.1345e-02],\n",
            "         [-4.4354e-03,  1.9361e-01, -2.1192e-02,  1.7505e-01, -1.2314e-01]],\n",
            "\n",
            "        [[ 4.5815e-04,  2.9854e-01, -2.3392e-01,  1.0688e-01,  4.2733e-01],\n",
            "         [ 9.3168e-02,  1.4042e-02,  4.1234e-01, -1.5342e-01,  1.3418e-01],\n",
            "         [ 1.7086e-02, -1.0914e-01, -2.2457e-01,  1.1463e-01, -9.7831e-02],\n",
            "         [ 3.7911e-02, -2.6655e-01, -8.2287e-02, -3.3651e-01, -1.1447e-02],\n",
            "         [-1.3664e-01,  2.1775e-01, -1.1529e-01,  1.3480e-01, -2.0114e-01]],\n",
            "\n",
            "        [[-2.6203e-01, -8.5919e-02,  4.8982e-02,  6.5229e-02,  2.0406e-03],\n",
            "         [ 4.3093e-02,  2.8466e-02, -2.0263e-02,  1.0154e-01,  1.0504e-01],\n",
            "         [ 2.4422e-02, -1.0444e-01, -4.1929e-02, -1.9295e-01,  9.0934e-02],\n",
            "         [-2.5335e-01,  1.3962e-02, -2.1410e-01, -1.8855e-01,  2.6774e-01],\n",
            "         [ 3.6293e-02,  1.2320e-01, -2.2055e-01,  1.8996e-01,  2.1460e-01]]])\n",
            "tensor(0.)\n"
          ]
        }
      ]
    },
    {
      "cell_type": "code",
      "execution_count": 39,
      "metadata": {
        "colab": {
          "base_uri": "https://localhost:8080/"
        },
        "id": "pMwEY7ZX20Hm",
        "outputId": "7858d4c6-e031-4f40-c749-ac4aaa47eed0"
      },
      "outputs": [
        {
          "output_type": "stream",
          "name": "stdout",
          "text": [
            "[1, 2000] loss:2.302\n",
            "[1, 4000] loss:2.130\n",
            "[1, 6000] loss:1.875\n",
            "[1, 8000] loss:1.772\n",
            "[1,10000] loss:1.685\n",
            "[1,12000] loss:1.602\n",
            "[2, 2000] loss:1.516\n",
            "[2, 4000] loss:1.460\n",
            "[2, 6000] loss:1.424\n",
            "[2, 8000] loss:1.392\n",
            "[2,10000] loss:1.377\n",
            "[2,12000] loss:1.357\n",
            "Finished Training! Total cost time:  199.8584122657776\n"
          ]
        }
      ],
      "source": [
        "#训练网络\n",
        "import time\n",
        "start=time.time()\n",
        "for epoch in range(2):\n",
        "  running_loss=0.0\n",
        "  for i,data in enumerate(trainloader,0):\n",
        "    #获取输入数据\n",
        "    inputs,labels=data\n",
        "    #清空梯度缓存\n",
        "    optimizer.zero_grad()\n",
        "    outputs=net(inputs)\n",
        "    l=loss(outputs,labels)\n",
        "    l.backward()\n",
        "    optimizer.step()\n",
        "    #打印统计信息\n",
        "    running_loss+=l.item()\n",
        "    if i%2000==1999:\n",
        "      print(\"[%d,%5d] loss:%.3f\" % (epoch+1,i+1,running_loss/2000))\n",
        "      running_loss=0.0\n",
        "print('Finished Training! Total cost time: ',time.time()-start)"
      ]
    },
    {
      "cell_type": "code",
      "execution_count": 40,
      "metadata": {
        "colab": {
          "base_uri": "https://localhost:8080/",
          "height": 210
        },
        "id": "9SFHtU6K39ux",
        "outputId": "56c90826-3cb7-4f58-ec10-9c552f0f04f8"
      },
      "outputs": [
        {
          "output_type": "display_data",
          "data": {
            "text/plain": [
              "<Figure size 640x480 with 1 Axes>"
            ],
            "image/png": "[encoded data removed]"
          },
          "metadata": {}
        },
        {
          "output_type": "stream",
          "name": "stdout",
          "text": [
            "GroundTruth:    cat  ship  ship plane\n"
          ]
        }
      ],
      "source": [
        "#测试模型性能\n",
        "dataiter=iter(testloader)\n",
        "images,labels=next(dataiter)\n",
        "#打印图片\n",
        "imshow(torchvision.utils.make_grid(images))\n",
        "print('GroundTruth: ', ' '.join('%5s' % classes[labels[j]] for j in range(4)))"
      ]
    },
    {
      "cell_type": "code",
      "execution_count": 41,
      "metadata": {
        "colab": {
          "base_uri": "https://localhost:8080/"
        },
        "id": "rIyPjdgM6Pqd",
        "outputId": "aceafe22-f706-4065-c38e-daf268c18fcc"
      },
      "outputs": [
        {
          "output_type": "stream",
          "name": "stdout",
          "text": [
            "Predicted:   bird  ship  ship plane\n"
          ]
        }
      ],
      "source": [
        "preds=net(images)\n",
        "_,predicted=torch.max(preds,1)\n",
        "print('Predicted: ', ' '.join('%5s' % classes[predicted[j]] for j in range(4)))"
      ]
    },
    {
      "cell_type": "code",
      "execution_count": 42,
      "metadata": {
        "id": "H3yiZxuw6iNq",
        "colab": {
          "base_uri": "https://localhost:8080/"
        },
        "outputId": "1b2e0d6a-af26-40c8-f79c-333abbc4eb76"
      },
      "outputs": [
        {
          "output_type": "stream",
          "name": "stdout",
          "text": [
            "Accuracy of the network on the 10000 test images: 52 %\n"
          ]
        }
      ],
      "source": [
        "correct=0\n",
        "total=0\n",
        "with torch.no_grad():\n",
        "  for data in testloader:\n",
        "    images,labels=data\n",
        "    preds=net(images)\n",
        "    _,predicted=torch.max(preds.data,1)#返回每行的最大值及其对应标签，1表示按行求最大值\n",
        "    total+=labels.shape[0]\n",
        "    correct+=(predicted==labels).sum().item()\n",
        "print('Accuracy of the network on the 10000 test images: %d %%' % (100 * correct / total))"
      ]
    },
    {
      "cell_type": "code",
      "execution_count": 46,
      "metadata": {
        "id": "vnV-cqIZ_H8a",
        "colab": {
          "base_uri": "https://localhost:8080/"
        },
        "outputId": "47d988e6-8dfb-489e-ea70-f09de60f621f"
      },
      "outputs": [
        {
          "output_type": "stream",
          "name": "stdout",
          "text": [
            "Accuracy of plane : 69 %\n",
            "Accuracy of   car : 61 %\n",
            "Accuracy of  bird : 44 %\n",
            "Accuracy of   cat : 16 %\n",
            "Accuracy of  deer : 50 %\n",
            "Accuracy of   dog : 43 %\n",
            "Accuracy of  frog : 71 %\n",
            "Accuracy of horse : 59 %\n",
            "Accuracy of  ship : 57 %\n",
            "Accuracy of truck : 49 %\n"
          ]
        }
      ],
      "source": [
        "#查看每个类别的分类准确率\n",
        "class_correct=list(0. for i in range(10))\n",
        "class_total=list(0. for i in range(10))\n",
        "with torch.no_grad():\n",
        "  for data in testloader:\n",
        "    images,labels=data\n",
        "    outputs=net(images)\n",
        "    _,predicted=torch.max(outputs,1)\n",
        "    c=(predicted==labels).squeeze()\n",
        "    for i in range(4):\n",
        "      label=labels[i]\n",
        "      class_correct[label]+=c[i].item()\n",
        "      class_total[label]+=1\n",
        "for i in range(10):\n",
        "    print('Accuracy of %5s : %2d %%' % (classes[i], 100 * class_correct[i] / class_total[i]))"
      ]
    },
    {
      "cell_type": "code",
      "source": [
        "#train in GPU\n",
        "device=torch.device(\"cuda:0\" if torch.cuda.is_available() else \"cpu\")\n",
        "print(device)"
      ],
      "metadata": {
        "colab": {
          "base_uri": "https://localhost:8080/"
        },
        "id": "wnISCkxih-LX",
        "outputId": "e40adee0-c826-4b88-89da-6344a76de83b"
      },
      "execution_count": 8,
      "outputs": [
        {
          "output_type": "stream",
          "name": "stdout",
          "text": [
            "cuda:0\n"
          ]
        }
      ]
    },
    {
      "cell_type": "code",
      "source": [
        "#训练网络\n",
        "import time\n",
        "start=time.time()\n",
        "net.to(device)#转换到GPU上训练\n",
        "for epoch in range(2):\n",
        "  running_loss=0.0\n",
        "  for i,data in enumerate(trainloader,0):\n",
        "    #获取输入数据\n",
        "    inputs,labels=data\n",
        "    inputs,labels=inputs.to(device),labels.to(device)\n",
        "    #清空梯度缓存\n",
        "    optimizer.zero_grad()\n",
        "    outputs=net(inputs)\n",
        "    l=loss(outputs,labels)\n",
        "    l.backward()\n",
        "    optimizer.step()\n",
        "    #打印统计信息\n",
        "    running_loss+=l.item()\n",
        "    if i%2000==1999:\n",
        "      print(\"[%d,%5d] loss:%.3f\" % (epoch+1,i+1,running_loss/2000))\n",
        "      running_loss=0.0\n",
        "print('Finished Training! Total cost time: ',time.time()-start)"
      ],
      "metadata": {
        "colab": {
          "base_uri": "https://localhost:8080/"
        },
        "id": "SN5H9gwUjmKn",
        "outputId": "343a4726-f92d-46f0-d308-7368f9ada7cb"
      },
      "execution_count": 10,
      "outputs": [
        {
          "output_type": "stream",
          "name": "stdout",
          "text": [
            "[1, 2000] loss:2.301\n",
            "[1, 4000] loss:2.081\n",
            "[1, 6000] loss:1.820\n",
            "[1, 8000] loss:1.709\n",
            "[1,10000] loss:1.622\n",
            "[1,12000] loss:1.540\n",
            "[2, 2000] loss:1.440\n",
            "[2, 4000] loss:1.431\n",
            "[2, 6000] loss:1.387\n",
            "[2, 8000] loss:1.378\n",
            "[2,10000] loss:1.335\n",
            "[2,12000] loss:1.319\n",
            "Finished Training! Total cost time:  115.20277118682861\n"
          ]
        }
      ]
    },
    {
      "cell_type": "code",
      "source": [
        "#数据并行\n",
        "import torch\n",
        "import torch.nn as nn\n",
        "from torch.utils.data import Dataset,DataLoader\n",
        "\n",
        "input_size=5\n",
        "output_size=2\n",
        "batch_size=32\n",
        "data_size=100\n",
        "device=torch.device(\"cuda:0\" if torch.cuda.is_available() else \"cpu\")\n",
        "print(device)"
      ],
      "metadata": {
        "colab": {
          "base_uri": "https://localhost:8080/"
        },
        "id": "JXGG8Cs6kgou",
        "outputId": "06920fcf-a065-4a8d-eb06-5171eb1adcb8"
      },
      "execution_count": 13,
      "outputs": [
        {
          "output_type": "stream",
          "name": "stdout",
          "text": [
            "cuda:0\n"
          ]
        }
      ]
    },
    {
      "cell_type": "code",
      "source": [
        "#构建随机数据集\n",
        "class RandomDataset(Dataset):\n",
        "  def __init__(self,size,length):\n",
        "    self.len=length\n",
        "    self.data=torch.randn(length,size)\n",
        "  def __getitem__(self,index):\n",
        "    return self.data[index]\n",
        "  def __len__(self):\n",
        "    return self.len\n",
        "rand_loader=DataLoader(dataset=RandomDataset(input_size,data_size),batch_size=batch_size,shuffle=True)"
      ],
      "metadata": {
        "id": "qysVsqutl5jJ"
      },
      "execution_count": 15,
      "outputs": []
    },
    {
      "cell_type": "code",
      "source": [
        "data=iter(rand_loader)\n",
        "next(data)"
      ],
      "metadata": {
        "colab": {
          "base_uri": "https://localhost:8080/"
        },
        "id": "vvsYf5fwnYSI",
        "outputId": "75b62cfb-ff26-4ea4-86c7-6fd841fd4699"
      },
      "execution_count": 16,
      "outputs": [
        {
          "output_type": "execute_result",
          "data": {
            "text/plain": [
              "tensor([[ 0.6799,  0.1415, -0.4000, -0.4553, -1.6683],\n",
              "        [ 0.0594,  2.2690, -0.6888, -0.2885, -0.7482],\n",
              "        [-0.4095,  0.9770, -1.0557,  1.0946,  1.1666],\n",
              "        [-1.8944, -1.2733,  0.4860, -0.4609,  0.2632],\n",
              "        [-1.4793, -0.0633, -1.5631,  2.7006, -1.7622],\n",
              "        [-0.7585, -2.4740, -2.1759, -0.3205, -0.4007],\n",
              "        [ 1.0728, -0.2267,  0.3647, -2.1401,  0.9203],\n",
              "        [ 0.9849, -0.0834,  1.1003,  1.6647,  2.3248],\n",
              "        [-1.1938,  0.5504, -0.7382,  0.6806, -0.9585],\n",
              "        [ 0.3600,  0.7683, -0.6938,  1.1319, -0.1718],\n",
              "        [ 1.5909, -0.9496, -0.1596,  1.3991, -0.9108],\n",
              "        [-0.1887,  0.8510, -0.2276, -1.7622,  0.1097],\n",
              "        [-0.6114,  0.3665, -0.8554, -0.9146, -0.7328],\n",
              "        [-1.4839,  0.1449,  0.7562,  0.8466, -1.9893],\n",
              "        [-0.0478, -0.8483,  1.3342, -0.3563, -1.0067],\n",
              "        [-0.1843, -0.2911, -0.6254, -0.4773,  0.1171],\n",
              "        [ 0.3724, -0.2891,  0.1835,  1.9498,  0.3910],\n",
              "        [ 0.1775,  1.0244, -1.0823, -1.1831, -0.7344],\n",
              "        [ 1.1077,  0.5698, -1.0140, -0.2900, -0.0039],\n",
              "        [-0.8767,  1.0936,  1.0864,  0.8742,  0.6385],\n",
              "        [-1.7739,  0.7846,  2.1880,  0.9079,  0.7417],\n",
              "        [ 0.3805, -0.2143, -0.4661,  0.7338, -0.7870],\n",
              "        [-1.0115,  0.2207,  0.1788, -0.0680,  1.6446],\n",
              "        [-0.3841,  0.4138, -0.6043,  0.5783,  0.2532],\n",
              "        [-1.9233,  0.8885, -0.4274,  0.9040,  1.3116],\n",
              "        [ 0.8514, -1.1338,  0.6560,  0.3622, -1.6512],\n",
              "        [ 0.7962,  0.7695,  1.9526, -0.7114,  0.2647],\n",
              "        [ 1.0482, -0.6561, -0.5217, -0.8736, -1.1712],\n",
              "        [ 0.8481, -0.7445, -1.4590, -0.9014, -0.1482],\n",
              "        [-0.8661, -2.2694, -1.4759, -0.4108,  0.4403],\n",
              "        [ 0.4524,  0.0249, -0.0551, -0.9632, -0.0525],\n",
              "        [ 1.3776, -1.9134, -0.5773,  0.1359,  0.0755]])"
            ]
          },
          "metadata": {},
          "execution_count": 16
        }
      ]
    },
    {
      "cell_type": "code",
      "source": [
        "#构建简单网络模型\n",
        "class Model(nn.Module):\n",
        "  def __init__(self,input_size,output_size):\n",
        "    super(Model,self).__init__()\n",
        "    self.fc=nn.Linear(input_size,output_size)\n",
        "  def forward(self,input):\n",
        "    output=self.fc(input)\n",
        "    return output"
      ],
      "metadata": {
        "id": "ZuPJK3TimkOx"
      },
      "execution_count": 17,
      "outputs": []
    },
    {
      "cell_type": "code",
      "source": [
        "#创建模型与数据平行\n",
        "model=Model(input_size,output_size)\n",
        "if torch.cuda.device_count()>1:\n",
        "  print(\"Let's use\",torch.cuda.device_count(),\"GPUS!\")\n",
        "  model=nn.DataParallel(model)\n",
        "model.to(device)"
      ],
      "metadata": {
        "colab": {
          "base_uri": "https://localhost:8080/"
        },
        "id": "9S98PZQBoBfJ",
        "outputId": "5a8cfa65-ebe8-4b7d-829c-70ecc062e19a"
      },
      "execution_count": 18,
      "outputs": [
        {
          "output_type": "execute_result",
          "data": {
            "text/plain": [
              "Model(\n",
              "  (fc): Linear(in_features=5, out_features=2, bias=True)\n",
              ")"
            ]
          },
          "metadata": {},
          "execution_count": 18
        }
      ]
    },
    {
      "cell_type": "code",
      "source": [
        "#进行训练\n",
        "for data in rand_loader:\n",
        "    input = data.to(device)\n",
        "    output = model(input)\n",
        "    print(\"Outside: input size\", input.size(),\n",
        "          \"output_size\", output.size())"
      ],
      "metadata": {
        "colab": {
          "base_uri": "https://localhost:8080/"
        },
        "id": "7RPzrEvdodhA",
        "outputId": "6b48d237-c443-4b7a-e670-48d8a2ff01dc"
      },
      "execution_count": 19,
      "outputs": [
        {
          "output_type": "stream",
          "name": "stdout",
          "text": [
            "Outside: input size torch.Size([32, 5]) output_size torch.Size([32, 2])\n",
            "Outside: input size torch.Size([32, 5]) output_size torch.Size([32, 2])\n",
            "Outside: input size torch.Size([32, 5]) output_size torch.Size([32, 2])\n",
            "Outside: input size torch.Size([4, 5]) output_size torch.Size([4, 2])\n"
          ]
        }
      ]
    },
    {
      "cell_type": "markdown",
      "source": [
        "如果仅仅只有1个GPU，则batch=32时，模型会得到输入输出的大小都是32，如果有多个GPU，则输入输出会被分到多个GPU上并行计算"
      ],
      "metadata": {
        "id": "RfthMr49ohAA"
      }
    }
  ],
  "metadata": {
    "colab": {
      "provenance": [],
      "gpuType": "T4"
    },
    "kernelspec": {
      "display_name": "Python 3",
      "name": "python3"
    },
    "language_info": {
      "name": "python"
    },
    "accelerator": "GPU"
  },
  "nbformat": 4,
  "nbformat_minor": 0
}