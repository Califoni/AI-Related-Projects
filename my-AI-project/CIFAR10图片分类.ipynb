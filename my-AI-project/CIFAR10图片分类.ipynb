{
  "nbformat": 4,
  "nbformat_minor": 0,
  "metadata": {
    "colab": {
      "provenance": []
    },
    "kernelspec": {
      "name": "python3",
      "display_name": "Python 3"
    },
    "language_info": {
      "name": "python"
    }
  },
  "cells": [
    {
      "cell_type": "code",
      "source": [
        "import torch\n",
        "import torchvision\n",
        "import torchvision.transforms as transforms\n",
        "import matplotlib.pyplot as plt\n",
        "import numpy as np"
      ],
      "metadata": {
        "id": "Ti2BKm95oTOS"
      },
      "execution_count": null,
      "outputs": []
    },
    {
      "cell_type": "code",
      "source": [
        "transform=transforms.Compose(\n",
        "    [transforms.ToTensor(),\n",
        "     transforms.Normalize((0.5,0.5,0.5),(0.5,0.5,0.5))])\n",
        "trainset=torchvision.datasets.CIFAR10(root='./data',train=True,download=True,transform=transform)\n",
        "trainloader=torch.utils.data.DataLoader(trainset,batch_size=4,shuffle=True,num_workers=2)\n",
        "testset=torchvision.datasets.CIFAR10(root='./data',train=False,download=True,transform=transform)\n",
        "testloader=torch.utils.data.DataLoader(testset,batch_size=4,shuffle=False,num_workers=2)\n",
        "classes=('plane', 'car', 'bird', 'cat','deer', 'dog', 'frog', 'horse', 'ship', 'truck')"
      ],
      "metadata": {
        "colab": {
          "base_uri": "https://localhost:8080/"
        },
        "id": "eyC1UcGEp-UK",
        "outputId": "9f16438b-5705-4841-ec88-977099dc0f51"
      },
      "execution_count": null,
      "outputs": [
        {
          "output_type": "stream",
          "name": "stdout",
          "text": [
            "Files already downloaded and verified\n",
            "Files already downloaded and verified\n"
          ]
        }
      ]
    },
    {
      "cell_type": "code",
      "source": [
        "def imshow(img):\n",
        "  img=img/2+0.5\n",
        "  npimg=img.numpy()\n",
        "  plt.imshow(np.transpose(npimg,(1,2,0)))\n",
        "  plt.show()\n",
        "#随机获取训练集图片\n",
        "dataiter=iter(trainloader)\n",
        "images,labels=next(dataiter)\n",
        "imshow(torchvision.utils.make_grid(images))\n",
        "print(\" \".join(\"%5s\") % classes[labels[j]] for j in range(4))"
      ],
      "metadata": {
        "colab": {
          "base_uri": "https://localhost:8080/",
          "height": 210
        },
        "id": "-iD1ycqWsak0",
        "outputId": "e6b561f1-6113-43dd-9f4c-b7bdc864fca5"
      },
      "execution_count": null,
      "outputs": [
        {
          "output_type": "display_data",
          "data": {
            "text/plain": [
              "<Figure size 640x480 with 1 Axes>"
            ],
            "image/png": "[encoded data removed]"
          },
          "metadata": {}
        },
        {
          "output_type": "stream",
          "name": "stdout",
          "text": [
            "<generator object <genexpr> at 0x7908a68d8040>\n"
          ]
        }
      ]
    },
    {
      "cell_type": "code",
      "source": [
        "#构建卷积神经网络\n",
        "import torch.nn as nn\n",
        "import torch.nn.functional as F\n",
        "class Net(nn.Module):\n",
        "  def __init__(self):\n",
        "    super(Net,self).__init__()\n",
        "    self.conv1=nn.Conv2d(3,6,5)\n",
        "    self.pool=nn.MaxPool2d(2,2)\n",
        "    self.conv2=nn.Conv2d(6,16,5)\n",
        "    self.fc1=nn.Linear(16*5*5,120)\n",
        "    self.fc2=nn.Linear(120,84)\n",
        "    self.fc3=nn.Linear(84,10)\n",
        "  def forward(self,x):\n",
        "    x=self.pool(F.relu(self.conv1(x)))\n",
        "    x=self.pool(F.relu(self.conv2(x)))\n",
        "    x=x.view(-1,16*5*5)\n",
        "    x=F.relu(self.fc1(x))\n",
        "    x=F.relu(self.fc2(x))\n",
        "    x=self.fc3(x)\n",
        "    return x\n",
        "net=Net()"
      ],
      "metadata": {
        "id": "HxnUhz5yrrJp"
      },
      "execution_count": null,
      "outputs": []
    },
    {
      "cell_type": "code",
      "source": [
        "#定义损失函数和优化器\n",
        "import torch.optim as optim\n",
        "loss=nn.CrossEntropyLoss()\n",
        "optimizer=optim.SGD(net.parameters(),lr=0.001,momentum=0.9)"
      ],
      "metadata": {
        "id": "heai3IdFuuFk"
      },
      "execution_count": null,
      "outputs": []
    },
    {
      "cell_type": "code",
      "source": [
        "#训练网络\n",
        "import time\n",
        "start=time.time()\n",
        "for epoch in range(2):\n",
        "  running_loss=0.0\n",
        "  for i,data in enumerate(trainloader,0):\n",
        "    #获取输入数据\n",
        "    inputs,labels=data\n",
        "    #清空梯度缓存\n",
        "    optimizer.zero_grad()\n",
        "    outputs=net(inputs)\n",
        "    l=loss(outputs,labels)\n",
        "    l.backward()\n",
        "    optimizer.step()\n",
        "    #打印统计信息\n",
        "    running_loss+=l.item()\n",
        "    if i%2000==1999:\n",
        "      print(\"[%d,%5d] loss:%.3f\" % (epoch+1,i+1,running_loss/2000))\n",
        "      running_loss=0.0\n",
        "print('Finished Training! Total cost time: ',time.time()-start)"
      ],
      "metadata": {
        "colab": {
          "base_uri": "https://localhost:8080/"
        },
        "id": "pMwEY7ZX20Hm",
        "outputId": "3f4cbd73-ecd2-479c-b5f3-e0ffc025eb4f"
      },
      "execution_count": null,
      "outputs": [
        {
          "output_type": "stream",
          "name": "stdout",
          "text": [
            "[1, 2000] loss:2.183\n",
            "[1, 4000] loss:1.889\n",
            "[1, 6000] loss:1.684\n",
            "[1, 8000] loss:1.582\n",
            "[1,10000] loss:1.527\n",
            "[1,12000] loss:1.461\n",
            "[2, 2000] loss:1.392\n",
            "[2, 4000] loss:1.383\n",
            "[2, 6000] loss:1.359\n",
            "[2, 8000] loss:1.350\n",
            "[2,10000] loss:1.312\n",
            "[2,12000] loss:1.304\n",
            "Finished Training! Total cost time:  140.0530822277069\n"
          ]
        }
      ]
    },
    {
      "cell_type": "code",
      "source": [
        "#测试模型性能\n",
        "dataiter=iter(testloader)\n",
        "images,labels=next(dataiter)\n",
        "#打印图片\n",
        "imshow(torchvision.utils.make_grid(images))\n",
        "print('GroundTruth: ', ' '.join('%5s' % classes[labels[j]] for j in range(4)))"
      ],
      "metadata": {
        "colab": {
          "base_uri": "https://localhost:8080/",
          "height": 210
        },
        "id": "9SFHtU6K39ux",
        "outputId": "3cf14c95-98bd-4ebe-ac8b-98b662393208"
      },
      "execution_count": null,
      "outputs": [
        {
          "output_type": "display_data",
          "data": {
            "text/plain": [
              "<Figure size 640x480 with 1 Axes>"
            ],
            "image/png": "[encoded data removed]"
          },
          "metadata": {}
        },
        {
          "output_type": "stream",
          "name": "stdout",
          "text": [
            "GroundTruth:    cat  ship  ship plane\n"
          ]
        }
      ]
    },
    {
      "cell_type": "code",
      "source": [
        "preds=net(images)\n",
        "_,predicted=torch.max(preds,1)\n",
        "print('Predicted: ', ' '.join('%5s' % classes[predicted[j]] for j in range(4)))"
      ],
      "metadata": {
        "colab": {
          "base_uri": "https://localhost:8080/"
        },
        "id": "rIyPjdgM6Pqd",
        "outputId": "9748846d-3c93-4035-ad34-de82fc09131e"
      },
      "execution_count": null,
      "outputs": [
        {
          "output_type": "stream",
          "name": "stdout",
          "text": [
            "Predicted:    cat   car   car  ship\n"
          ]
        }
      ]
    },
    {
      "cell_type": "code",
      "source": [
        "correct=0\n",
        "total=0\n",
        "with torch.no_grad():\n",
        "  for data in testloader:\n",
        "    images,labels=data\n",
        "    preds=net(images)\n",
        "    _,predicted=torch.max(preds.data,1)#返回每行的最大值及其对应标签，1表示按行求最大值\n",
        "    total+=labels.shape[0]\n",
        "    correct+=(predicted==labels).sum().item()\n",
        "print('Accuracy of the network on the 10000 test images: %d %%' % (100 * correct / total))"
      ],
      "metadata": {
        "id": "H3yiZxuw6iNq"
      },
      "execution_count": null,
      "outputs": []
    },
    {
      "cell_type": "code",
      "source": [
        "labels.size()"
      ],
      "metadata": {
        "colab": {
          "base_uri": "https://localhost:8080/"
        },
        "id": "eRPPKqfY7C80",
        "outputId": "61c19042-d3cc-4da5-aff0-0e08dcccd52f"
      },
      "execution_count": null,
      "outputs": [
        {
          "output_type": "execute_result",
          "data": {
            "text/plain": [
              "torch.Size([4])"
            ]
          },
          "metadata": {},
          "execution_count": 33
        }
      ]
    },
    {
      "cell_type": "code",
      "source": [
        "\n"
      ],
      "metadata": {
        "id": "vnV-cqIZ_H8a"
      },
      "execution_count": null,
      "outputs": []
    }
  ]
}